{
  "cells": [
    {
      "cell_type": "markdown",
      "id": "f2ac4dcd",
      "metadata": {
        "id": "f2ac4dcd"
      },
      "source": [
        "<img src=\"images/keepcoding.png\" width=200 align=\"left\">"
      ]
    },
    {
      "cell_type": "markdown",
      "id": "9b439de7",
      "metadata": {
        "id": "9b439de7"
      },
      "source": [
        "# Módulo de Matemáticas 101: práctica\n",
        "\n",
        "Vamos a poner de nuevo en práctica lo que hemos visto en este módulo. La práctica se centra en la regresión lineal (¡tema muy importante!) y podéis preguntarme las dudas que tengáis por Discord. ¡Mucha suerte!\n",
        "\n",
        "<img src=\"./images/luck.gif\" alt=\"Drawing\" style=\"width: 300px;\"/>"
      ]
    },
    {
      "cell_type": "markdown",
      "id": "3d586f09",
      "metadata": {
        "id": "3d586f09"
      },
      "source": [
        "## 1. Regresión lineal con mínimos cuadrados\n",
        "\n",
        "En este ejercicio vamos a implementar la forma matricial de la regresión lineal con el método de los mínimos cuadrados. Para ello, tendrás que:\n",
        "\n",
        "- Explorar un dataset\n",
        "- Implementar la regresión lineal\n",
        "- Aplicarla a un dataset concreto\n",
        "\n",
        "Como recordatorio, los valores de los pesos $\\widehat{w}$ vienen dados por:\n",
        "\n",
        "<center>$\\widehat{w} = (X^T X)^{-1}X^T y,$</center>\n",
        "\n",
        "Donde $y$ es la variable a predecir y $X$ la matriz de features (NOTA: revisa cómo se define en los apuntes). Sabemos que los pesos van a ser los parámetros de la ecuación lineal que estamos intentando ajustar y tendremos uno por cada variable de entrada que usemos y además un término independiente o bias."
      ]
    },
    {
      "cell_type": "markdown",
      "id": "e574f77d",
      "metadata": {
        "id": "e574f77d"
      },
      "source": [
        "### 1.1 Carga del dataset y exploración de datos\n",
        "\n",
        "Vamos a usar el dataset de [Auto MPG](https://archive.ics.uci.edu/dataset/9/auto+mpg) que podemos encontrar en el [repositorio de Machine learning de UC Irvine](https://archive.ics.uci.edu/). Lo primero, vamos a familiarizarnos con los datos.\n",
        "\n",
        "En el propio repositorio nos indican cómo descargar el dataset con su librería (podemos consultar el código fuente si queremos)."
      ]
    },
    {
      "cell_type": "code",
      "execution_count": 2,
      "id": "4b5aac08",
      "metadata": {
        "colab": {
          "base_uri": "https://localhost:8080/"
        },
        "id": "4b5aac08",
        "outputId": "6bf7099c-c804-4ca2-9267-ec6ae368e0d6"
      },
      "outputs": [
        {
          "output_type": "stream",
          "name": "stdout",
          "text": [
            "Collecting ucimlrepo\n",
            "  Downloading ucimlrepo-0.0.7-py3-none-any.whl.metadata (5.5 kB)\n",
            "Requirement already satisfied: pandas>=1.0.0 in /usr/local/lib/python3.10/dist-packages (from ucimlrepo) (2.2.2)\n",
            "Requirement already satisfied: certifi>=2020.12.5 in /usr/local/lib/python3.10/dist-packages (from ucimlrepo) (2024.12.14)\n",
            "Requirement already satisfied: numpy>=1.22.4 in /usr/local/lib/python3.10/dist-packages (from pandas>=1.0.0->ucimlrepo) (1.26.4)\n",
            "Requirement already satisfied: python-dateutil>=2.8.2 in /usr/local/lib/python3.10/dist-packages (from pandas>=1.0.0->ucimlrepo) (2.8.2)\n",
            "Requirement already satisfied: pytz>=2020.1 in /usr/local/lib/python3.10/dist-packages (from pandas>=1.0.0->ucimlrepo) (2024.2)\n",
            "Requirement already satisfied: tzdata>=2022.7 in /usr/local/lib/python3.10/dist-packages (from pandas>=1.0.0->ucimlrepo) (2024.2)\n",
            "Requirement already satisfied: six>=1.5 in /usr/local/lib/python3.10/dist-packages (from python-dateutil>=2.8.2->pandas>=1.0.0->ucimlrepo) (1.17.0)\n",
            "Downloading ucimlrepo-0.0.7-py3-none-any.whl (8.0 kB)\n",
            "Installing collected packages: ucimlrepo\n",
            "Successfully installed ucimlrepo-0.0.7\n"
          ]
        }
      ],
      "source": [
        "!pip install ucimlrepo"
      ]
    },
    {
      "cell_type": "code",
      "execution_count": 3,
      "id": "d69d9185",
      "metadata": {
        "colab": {
          "base_uri": "https://localhost:8080/"
        },
        "id": "d69d9185",
        "outputId": "9a0feba0-48d5-4f0e-8c4e-eb8fe48469b0"
      },
      "outputs": [
        {
          "output_type": "stream",
          "name": "stdout",
          "text": [
            "{'uci_id': 9, 'name': 'Auto MPG', 'repository_url': 'https://archive.ics.uci.edu/dataset/9/auto+mpg', 'data_url': 'https://archive.ics.uci.edu/static/public/9/data.csv', 'abstract': 'Revised from CMU StatLib library, data concerns city-cycle fuel consumption', 'area': 'Other', 'tasks': ['Regression'], 'characteristics': ['Multivariate'], 'num_instances': 398, 'num_features': 7, 'feature_types': ['Real', 'Categorical', 'Integer'], 'demographics': [], 'target_col': ['mpg'], 'index_col': ['car_name'], 'has_missing_values': 'yes', 'missing_values_symbol': 'NaN', 'year_of_dataset_creation': 1993, 'last_updated': 'Thu Aug 10 2023', 'dataset_doi': '10.24432/C5859H', 'creators': ['R. Quinlan'], 'intro_paper': None, 'additional_info': {'summary': 'This dataset is a slightly modified version of the dataset provided in the StatLib library.  In line with the use by Ross Quinlan (1993) in predicting the attribute \"mpg\", 8 of the original instances were removed because they had unknown values for the \"mpg\" attribute.  The original dataset is available in the file \"auto-mpg.data-original\".\\r\\n\\r\\n\"The data concerns city-cycle fuel consumption in miles per gallon, to be predicted in terms of 3 multivalued discrete and 5 continuous attributes.\" (Quinlan, 1993)', 'purpose': None, 'funded_by': None, 'instances_represent': None, 'recommended_data_splits': None, 'sensitive_data': None, 'preprocessing_description': None, 'variable_info': '    1. mpg:           continuous\\r\\n    2. cylinders:     multi-valued discrete\\r\\n    3. displacement:  continuous\\r\\n    4. horsepower:    continuous\\r\\n    5. weight:        continuous\\r\\n    6. acceleration:  continuous\\r\\n    7. model year:    multi-valued discrete\\r\\n    8. origin:        multi-valued discrete\\r\\n    9. car name:      string (unique for each instance)', 'citation': None}}\n",
            "           name     role         type demographic description units  \\\n",
            "0  displacement  Feature   Continuous        None        None  None   \n",
            "1           mpg   Target   Continuous        None        None  None   \n",
            "2     cylinders  Feature      Integer        None        None  None   \n",
            "3    horsepower  Feature   Continuous        None        None  None   \n",
            "4        weight  Feature   Continuous        None        None  None   \n",
            "5  acceleration  Feature   Continuous        None        None  None   \n",
            "6    model_year  Feature      Integer        None        None  None   \n",
            "7        origin  Feature      Integer        None        None  None   \n",
            "8      car_name       ID  Categorical        None        None  None   \n",
            "\n",
            "  missing_values  \n",
            "0             no  \n",
            "1             no  \n",
            "2             no  \n",
            "3            yes  \n",
            "4             no  \n",
            "5             no  \n",
            "6             no  \n",
            "7             no  \n",
            "8             no  \n"
          ]
        }
      ],
      "source": [
        "from ucimlrepo import fetch_ucirepo\n",
        "\n",
        "# fetch dataset\n",
        "auto_mpg = fetch_ucirepo(id=9)\n",
        "\n",
        "# data (as pandas dataframes)\n",
        "X = auto_mpg.data.features\n",
        "y = auto_mpg.data.targets\n",
        "\n",
        "# metadata\n",
        "print(auto_mpg.metadata)\n",
        "\n",
        "# variable information\n",
        "print(auto_mpg.variables)\n"
      ]
    },
    {
      "cell_type": "markdown",
      "id": "5f7f79e8",
      "metadata": {
        "id": "5f7f79e8"
      },
      "source": [
        "Con la función `head` de Pandas podemos ver las primeras filas del dataset."
      ]
    },
    {
      "cell_type": "code",
      "execution_count": 4,
      "id": "242091db",
      "metadata": {
        "colab": {
          "base_uri": "https://localhost:8080/",
          "height": 206
        },
        "id": "242091db",
        "outputId": "6916d2e3-a934-4a93-dd45-8d2ba9ebafbc"
      },
      "outputs": [
        {
          "output_type": "execute_result",
          "data": {
            "text/plain": [
              "   displacement  cylinders  horsepower  weight  acceleration  model_year  \\\n",
              "0         307.0          8       130.0    3504          12.0          70   \n",
              "1         350.0          8       165.0    3693          11.5          70   \n",
              "2         318.0          8       150.0    3436          11.0          70   \n",
              "3         304.0          8       150.0    3433          12.0          70   \n",
              "4         302.0          8       140.0    3449          10.5          70   \n",
              "\n",
              "   origin  \n",
              "0       1  \n",
              "1       1  \n",
              "2       1  \n",
              "3       1  \n",
              "4       1  "
            ],
            "text/html": [
              "\n",
              "  <div id=\"df-b61d1f18-960f-4f22-aea2-1feab8178577\" class=\"colab-df-container\">\n",
              "    <div>\n",
              "<style scoped>\n",
              "    .dataframe tbody tr th:only-of-type {\n",
              "        vertical-align: middle;\n",
              "    }\n",
              "\n",
              "    .dataframe tbody tr th {\n",
              "        vertical-align: top;\n",
              "    }\n",
              "\n",
              "    .dataframe thead th {\n",
              "        text-align: right;\n",
              "    }\n",
              "</style>\n",
              "<table border=\"1\" class=\"dataframe\">\n",
              "  <thead>\n",
              "    <tr style=\"text-align: right;\">\n",
              "      <th></th>\n",
              "      <th>displacement</th>\n",
              "      <th>cylinders</th>\n",
              "      <th>horsepower</th>\n",
              "      <th>weight</th>\n",
              "      <th>acceleration</th>\n",
              "      <th>model_year</th>\n",
              "      <th>origin</th>\n",
              "    </tr>\n",
              "  </thead>\n",
              "  <tbody>\n",
              "    <tr>\n",
              "      <th>0</th>\n",
              "      <td>307.0</td>\n",
              "      <td>8</td>\n",
              "      <td>130.0</td>\n",
              "      <td>3504</td>\n",
              "      <td>12.0</td>\n",
              "      <td>70</td>\n",
              "      <td>1</td>\n",
              "    </tr>\n",
              "    <tr>\n",
              "      <th>1</th>\n",
              "      <td>350.0</td>\n",
              "      <td>8</td>\n",
              "      <td>165.0</td>\n",
              "      <td>3693</td>\n",
              "      <td>11.5</td>\n",
              "      <td>70</td>\n",
              "      <td>1</td>\n",
              "    </tr>\n",
              "    <tr>\n",
              "      <th>2</th>\n",
              "      <td>318.0</td>\n",
              "      <td>8</td>\n",
              "      <td>150.0</td>\n",
              "      <td>3436</td>\n",
              "      <td>11.0</td>\n",
              "      <td>70</td>\n",
              "      <td>1</td>\n",
              "    </tr>\n",
              "    <tr>\n",
              "      <th>3</th>\n",
              "      <td>304.0</td>\n",
              "      <td>8</td>\n",
              "      <td>150.0</td>\n",
              "      <td>3433</td>\n",
              "      <td>12.0</td>\n",
              "      <td>70</td>\n",
              "      <td>1</td>\n",
              "    </tr>\n",
              "    <tr>\n",
              "      <th>4</th>\n",
              "      <td>302.0</td>\n",
              "      <td>8</td>\n",
              "      <td>140.0</td>\n",
              "      <td>3449</td>\n",
              "      <td>10.5</td>\n",
              "      <td>70</td>\n",
              "      <td>1</td>\n",
              "    </tr>\n",
              "  </tbody>\n",
              "</table>\n",
              "</div>\n",
              "    <div class=\"colab-df-buttons\">\n",
              "\n",
              "  <div class=\"colab-df-container\">\n",
              "    <button class=\"colab-df-convert\" onclick=\"convertToInteractive('df-b61d1f18-960f-4f22-aea2-1feab8178577')\"\n",
              "            title=\"Convert this dataframe to an interactive table.\"\n",
              "            style=\"display:none;\">\n",
              "\n",
              "  <svg xmlns=\"http://www.w3.org/2000/svg\" height=\"24px\" viewBox=\"0 -960 960 960\">\n",
              "    <path d=\"M120-120v-720h720v720H120Zm60-500h600v-160H180v160Zm220 220h160v-160H400v160Zm0 220h160v-160H400v160ZM180-400h160v-160H180v160Zm440 0h160v-160H620v160ZM180-180h160v-160H180v160Zm440 0h160v-160H620v160Z\"/>\n",
              "  </svg>\n",
              "    </button>\n",
              "\n",
              "  <style>\n",
              "    .colab-df-container {\n",
              "      display:flex;\n",
              "      gap: 12px;\n",
              "    }\n",
              "\n",
              "    .colab-df-convert {\n",
              "      background-color: #E8F0FE;\n",
              "      border: none;\n",
              "      border-radius: 50%;\n",
              "      cursor: pointer;\n",
              "      display: none;\n",
              "      fill: #1967D2;\n",
              "      height: 32px;\n",
              "      padding: 0 0 0 0;\n",
              "      width: 32px;\n",
              "    }\n",
              "\n",
              "    .colab-df-convert:hover {\n",
              "      background-color: #E2EBFA;\n",
              "      box-shadow: 0px 1px 2px rgba(60, 64, 67, 0.3), 0px 1px 3px 1px rgba(60, 64, 67, 0.15);\n",
              "      fill: #174EA6;\n",
              "    }\n",
              "\n",
              "    .colab-df-buttons div {\n",
              "      margin-bottom: 4px;\n",
              "    }\n",
              "\n",
              "    [theme=dark] .colab-df-convert {\n",
              "      background-color: #3B4455;\n",
              "      fill: #D2E3FC;\n",
              "    }\n",
              "\n",
              "    [theme=dark] .colab-df-convert:hover {\n",
              "      background-color: #434B5C;\n",
              "      box-shadow: 0px 1px 3px 1px rgba(0, 0, 0, 0.15);\n",
              "      filter: drop-shadow(0px 1px 2px rgba(0, 0, 0, 0.3));\n",
              "      fill: #FFFFFF;\n",
              "    }\n",
              "  </style>\n",
              "\n",
              "    <script>\n",
              "      const buttonEl =\n",
              "        document.querySelector('#df-b61d1f18-960f-4f22-aea2-1feab8178577 button.colab-df-convert');\n",
              "      buttonEl.style.display =\n",
              "        google.colab.kernel.accessAllowed ? 'block' : 'none';\n",
              "\n",
              "      async function convertToInteractive(key) {\n",
              "        const element = document.querySelector('#df-b61d1f18-960f-4f22-aea2-1feab8178577');\n",
              "        const dataTable =\n",
              "          await google.colab.kernel.invokeFunction('convertToInteractive',\n",
              "                                                    [key], {});\n",
              "        if (!dataTable) return;\n",
              "\n",
              "        const docLinkHtml = 'Like what you see? Visit the ' +\n",
              "          '<a target=\"_blank\" href=https://colab.research.google.com/notebooks/data_table.ipynb>data table notebook</a>'\n",
              "          + ' to learn more about interactive tables.';\n",
              "        element.innerHTML = '';\n",
              "        dataTable['output_type'] = 'display_data';\n",
              "        await google.colab.output.renderOutput(dataTable, element);\n",
              "        const docLink = document.createElement('div');\n",
              "        docLink.innerHTML = docLinkHtml;\n",
              "        element.appendChild(docLink);\n",
              "      }\n",
              "    </script>\n",
              "  </div>\n",
              "\n",
              "\n",
              "<div id=\"df-043b2e2e-1cb2-4820-bd1b-c73fa20393e2\">\n",
              "  <button class=\"colab-df-quickchart\" onclick=\"quickchart('df-043b2e2e-1cb2-4820-bd1b-c73fa20393e2')\"\n",
              "            title=\"Suggest charts\"\n",
              "            style=\"display:none;\">\n",
              "\n",
              "<svg xmlns=\"http://www.w3.org/2000/svg\" height=\"24px\"viewBox=\"0 0 24 24\"\n",
              "     width=\"24px\">\n",
              "    <g>\n",
              "        <path d=\"M19 3H5c-1.1 0-2 .9-2 2v14c0 1.1.9 2 2 2h14c1.1 0 2-.9 2-2V5c0-1.1-.9-2-2-2zM9 17H7v-7h2v7zm4 0h-2V7h2v10zm4 0h-2v-4h2v4z\"/>\n",
              "    </g>\n",
              "</svg>\n",
              "  </button>\n",
              "\n",
              "<style>\n",
              "  .colab-df-quickchart {\n",
              "      --bg-color: #E8F0FE;\n",
              "      --fill-color: #1967D2;\n",
              "      --hover-bg-color: #E2EBFA;\n",
              "      --hover-fill-color: #174EA6;\n",
              "      --disabled-fill-color: #AAA;\n",
              "      --disabled-bg-color: #DDD;\n",
              "  }\n",
              "\n",
              "  [theme=dark] .colab-df-quickchart {\n",
              "      --bg-color: #3B4455;\n",
              "      --fill-color: #D2E3FC;\n",
              "      --hover-bg-color: #434B5C;\n",
              "      --hover-fill-color: #FFFFFF;\n",
              "      --disabled-bg-color: #3B4455;\n",
              "      --disabled-fill-color: #666;\n",
              "  }\n",
              "\n",
              "  .colab-df-quickchart {\n",
              "    background-color: var(--bg-color);\n",
              "    border: none;\n",
              "    border-radius: 50%;\n",
              "    cursor: pointer;\n",
              "    display: none;\n",
              "    fill: var(--fill-color);\n",
              "    height: 32px;\n",
              "    padding: 0;\n",
              "    width: 32px;\n",
              "  }\n",
              "\n",
              "  .colab-df-quickchart:hover {\n",
              "    background-color: var(--hover-bg-color);\n",
              "    box-shadow: 0 1px 2px rgba(60, 64, 67, 0.3), 0 1px 3px 1px rgba(60, 64, 67, 0.15);\n",
              "    fill: var(--button-hover-fill-color);\n",
              "  }\n",
              "\n",
              "  .colab-df-quickchart-complete:disabled,\n",
              "  .colab-df-quickchart-complete:disabled:hover {\n",
              "    background-color: var(--disabled-bg-color);\n",
              "    fill: var(--disabled-fill-color);\n",
              "    box-shadow: none;\n",
              "  }\n",
              "\n",
              "  .colab-df-spinner {\n",
              "    border: 2px solid var(--fill-color);\n",
              "    border-color: transparent;\n",
              "    border-bottom-color: var(--fill-color);\n",
              "    animation:\n",
              "      spin 1s steps(1) infinite;\n",
              "  }\n",
              "\n",
              "  @keyframes spin {\n",
              "    0% {\n",
              "      border-color: transparent;\n",
              "      border-bottom-color: var(--fill-color);\n",
              "      border-left-color: var(--fill-color);\n",
              "    }\n",
              "    20% {\n",
              "      border-color: transparent;\n",
              "      border-left-color: var(--fill-color);\n",
              "      border-top-color: var(--fill-color);\n",
              "    }\n",
              "    30% {\n",
              "      border-color: transparent;\n",
              "      border-left-color: var(--fill-color);\n",
              "      border-top-color: var(--fill-color);\n",
              "      border-right-color: var(--fill-color);\n",
              "    }\n",
              "    40% {\n",
              "      border-color: transparent;\n",
              "      border-right-color: var(--fill-color);\n",
              "      border-top-color: var(--fill-color);\n",
              "    }\n",
              "    60% {\n",
              "      border-color: transparent;\n",
              "      border-right-color: var(--fill-color);\n",
              "    }\n",
              "    80% {\n",
              "      border-color: transparent;\n",
              "      border-right-color: var(--fill-color);\n",
              "      border-bottom-color: var(--fill-color);\n",
              "    }\n",
              "    90% {\n",
              "      border-color: transparent;\n",
              "      border-bottom-color: var(--fill-color);\n",
              "    }\n",
              "  }\n",
              "</style>\n",
              "\n",
              "  <script>\n",
              "    async function quickchart(key) {\n",
              "      const quickchartButtonEl =\n",
              "        document.querySelector('#' + key + ' button');\n",
              "      quickchartButtonEl.disabled = true;  // To prevent multiple clicks.\n",
              "      quickchartButtonEl.classList.add('colab-df-spinner');\n",
              "      try {\n",
              "        const charts = await google.colab.kernel.invokeFunction(\n",
              "            'suggestCharts', [key], {});\n",
              "      } catch (error) {\n",
              "        console.error('Error during call to suggestCharts:', error);\n",
              "      }\n",
              "      quickchartButtonEl.classList.remove('colab-df-spinner');\n",
              "      quickchartButtonEl.classList.add('colab-df-quickchart-complete');\n",
              "    }\n",
              "    (() => {\n",
              "      let quickchartButtonEl =\n",
              "        document.querySelector('#df-043b2e2e-1cb2-4820-bd1b-c73fa20393e2 button');\n",
              "      quickchartButtonEl.style.display =\n",
              "        google.colab.kernel.accessAllowed ? 'block' : 'none';\n",
              "    })();\n",
              "  </script>\n",
              "</div>\n",
              "\n",
              "    </div>\n",
              "  </div>\n"
            ],
            "application/vnd.google.colaboratory.intrinsic+json": {
              "type": "dataframe",
              "variable_name": "X",
              "summary": "{\n  \"name\": \"X\",\n  \"rows\": 398,\n  \"fields\": [\n    {\n      \"column\": \"displacement\",\n      \"properties\": {\n        \"dtype\": \"number\",\n        \"std\": 104.26983817119581,\n        \"min\": 68.0,\n        \"max\": 455.0,\n        \"num_unique_values\": 82,\n        \"samples\": [\n          122.0,\n          307.0,\n          360.0\n        ],\n        \"semantic_type\": \"\",\n        \"description\": \"\"\n      }\n    },\n    {\n      \"column\": \"cylinders\",\n      \"properties\": {\n        \"dtype\": \"number\",\n        \"std\": 1,\n        \"min\": 3,\n        \"max\": 8,\n        \"num_unique_values\": 5,\n        \"samples\": [\n          4,\n          5,\n          6\n        ],\n        \"semantic_type\": \"\",\n        \"description\": \"\"\n      }\n    },\n    {\n      \"column\": \"horsepower\",\n      \"properties\": {\n        \"dtype\": \"number\",\n        \"std\": 38.49115993282855,\n        \"min\": 46.0,\n        \"max\": 230.0,\n        \"num_unique_values\": 93,\n        \"samples\": [\n          92.0,\n          100.0,\n          52.0\n        ],\n        \"semantic_type\": \"\",\n        \"description\": \"\"\n      }\n    },\n    {\n      \"column\": \"weight\",\n      \"properties\": {\n        \"dtype\": \"number\",\n        \"std\": 846,\n        \"min\": 1613,\n        \"max\": 5140,\n        \"num_unique_values\": 351,\n        \"samples\": [\n          3730,\n          1995,\n          2215\n        ],\n        \"semantic_type\": \"\",\n        \"description\": \"\"\n      }\n    },\n    {\n      \"column\": \"acceleration\",\n      \"properties\": {\n        \"dtype\": \"number\",\n        \"std\": 2.7576889298126757,\n        \"min\": 8.0,\n        \"max\": 24.8,\n        \"num_unique_values\": 95,\n        \"samples\": [\n          14.7,\n          18.0,\n          14.3\n        ],\n        \"semantic_type\": \"\",\n        \"description\": \"\"\n      }\n    },\n    {\n      \"column\": \"model_year\",\n      \"properties\": {\n        \"dtype\": \"number\",\n        \"std\": 3,\n        \"min\": 70,\n        \"max\": 82,\n        \"num_unique_values\": 13,\n        \"samples\": [\n          81,\n          79,\n          70\n        ],\n        \"semantic_type\": \"\",\n        \"description\": \"\"\n      }\n    },\n    {\n      \"column\": \"origin\",\n      \"properties\": {\n        \"dtype\": \"number\",\n        \"std\": 0,\n        \"min\": 1,\n        \"max\": 3,\n        \"num_unique_values\": 3,\n        \"samples\": [\n          1,\n          3,\n          2\n        ],\n        \"semantic_type\": \"\",\n        \"description\": \"\"\n      }\n    }\n  ]\n}"
            }
          },
          "metadata": {},
          "execution_count": 4
        }
      ],
      "source": [
        "X.head()"
      ]
    },
    {
      "cell_type": "code",
      "execution_count": 5,
      "id": "bc6bfba5",
      "metadata": {
        "colab": {
          "base_uri": "https://localhost:8080/",
          "height": 206
        },
        "id": "bc6bfba5",
        "outputId": "0e9c03a2-8d0a-4fd3-d688-5f4b39312f01"
      },
      "outputs": [
        {
          "output_type": "execute_result",
          "data": {
            "text/plain": [
              "    mpg\n",
              "0  18.0\n",
              "1  15.0\n",
              "2  18.0\n",
              "3  16.0\n",
              "4  17.0"
            ],
            "text/html": [
              "\n",
              "  <div id=\"df-46e0891b-0810-46b9-b904-7c22a4447bd8\" class=\"colab-df-container\">\n",
              "    <div>\n",
              "<style scoped>\n",
              "    .dataframe tbody tr th:only-of-type {\n",
              "        vertical-align: middle;\n",
              "    }\n",
              "\n",
              "    .dataframe tbody tr th {\n",
              "        vertical-align: top;\n",
              "    }\n",
              "\n",
              "    .dataframe thead th {\n",
              "        text-align: right;\n",
              "    }\n",
              "</style>\n",
              "<table border=\"1\" class=\"dataframe\">\n",
              "  <thead>\n",
              "    <tr style=\"text-align: right;\">\n",
              "      <th></th>\n",
              "      <th>mpg</th>\n",
              "    </tr>\n",
              "  </thead>\n",
              "  <tbody>\n",
              "    <tr>\n",
              "      <th>0</th>\n",
              "      <td>18.0</td>\n",
              "    </tr>\n",
              "    <tr>\n",
              "      <th>1</th>\n",
              "      <td>15.0</td>\n",
              "    </tr>\n",
              "    <tr>\n",
              "      <th>2</th>\n",
              "      <td>18.0</td>\n",
              "    </tr>\n",
              "    <tr>\n",
              "      <th>3</th>\n",
              "      <td>16.0</td>\n",
              "    </tr>\n",
              "    <tr>\n",
              "      <th>4</th>\n",
              "      <td>17.0</td>\n",
              "    </tr>\n",
              "  </tbody>\n",
              "</table>\n",
              "</div>\n",
              "    <div class=\"colab-df-buttons\">\n",
              "\n",
              "  <div class=\"colab-df-container\">\n",
              "    <button class=\"colab-df-convert\" onclick=\"convertToInteractive('df-46e0891b-0810-46b9-b904-7c22a4447bd8')\"\n",
              "            title=\"Convert this dataframe to an interactive table.\"\n",
              "            style=\"display:none;\">\n",
              "\n",
              "  <svg xmlns=\"http://www.w3.org/2000/svg\" height=\"24px\" viewBox=\"0 -960 960 960\">\n",
              "    <path d=\"M120-120v-720h720v720H120Zm60-500h600v-160H180v160Zm220 220h160v-160H400v160Zm0 220h160v-160H400v160ZM180-400h160v-160H180v160Zm440 0h160v-160H620v160ZM180-180h160v-160H180v160Zm440 0h160v-160H620v160Z\"/>\n",
              "  </svg>\n",
              "    </button>\n",
              "\n",
              "  <style>\n",
              "    .colab-df-container {\n",
              "      display:flex;\n",
              "      gap: 12px;\n",
              "    }\n",
              "\n",
              "    .colab-df-convert {\n",
              "      background-color: #E8F0FE;\n",
              "      border: none;\n",
              "      border-radius: 50%;\n",
              "      cursor: pointer;\n",
              "      display: none;\n",
              "      fill: #1967D2;\n",
              "      height: 32px;\n",
              "      padding: 0 0 0 0;\n",
              "      width: 32px;\n",
              "    }\n",
              "\n",
              "    .colab-df-convert:hover {\n",
              "      background-color: #E2EBFA;\n",
              "      box-shadow: 0px 1px 2px rgba(60, 64, 67, 0.3), 0px 1px 3px 1px rgba(60, 64, 67, 0.15);\n",
              "      fill: #174EA6;\n",
              "    }\n",
              "\n",
              "    .colab-df-buttons div {\n",
              "      margin-bottom: 4px;\n",
              "    }\n",
              "\n",
              "    [theme=dark] .colab-df-convert {\n",
              "      background-color: #3B4455;\n",
              "      fill: #D2E3FC;\n",
              "    }\n",
              "\n",
              "    [theme=dark] .colab-df-convert:hover {\n",
              "      background-color: #434B5C;\n",
              "      box-shadow: 0px 1px 3px 1px rgba(0, 0, 0, 0.15);\n",
              "      filter: drop-shadow(0px 1px 2px rgba(0, 0, 0, 0.3));\n",
              "      fill: #FFFFFF;\n",
              "    }\n",
              "  </style>\n",
              "\n",
              "    <script>\n",
              "      const buttonEl =\n",
              "        document.querySelector('#df-46e0891b-0810-46b9-b904-7c22a4447bd8 button.colab-df-convert');\n",
              "      buttonEl.style.display =\n",
              "        google.colab.kernel.accessAllowed ? 'block' : 'none';\n",
              "\n",
              "      async function convertToInteractive(key) {\n",
              "        const element = document.querySelector('#df-46e0891b-0810-46b9-b904-7c22a4447bd8');\n",
              "        const dataTable =\n",
              "          await google.colab.kernel.invokeFunction('convertToInteractive',\n",
              "                                                    [key], {});\n",
              "        if (!dataTable) return;\n",
              "\n",
              "        const docLinkHtml = 'Like what you see? Visit the ' +\n",
              "          '<a target=\"_blank\" href=https://colab.research.google.com/notebooks/data_table.ipynb>data table notebook</a>'\n",
              "          + ' to learn more about interactive tables.';\n",
              "        element.innerHTML = '';\n",
              "        dataTable['output_type'] = 'display_data';\n",
              "        await google.colab.output.renderOutput(dataTable, element);\n",
              "        const docLink = document.createElement('div');\n",
              "        docLink.innerHTML = docLinkHtml;\n",
              "        element.appendChild(docLink);\n",
              "      }\n",
              "    </script>\n",
              "  </div>\n",
              "\n",
              "\n",
              "<div id=\"df-6b263e70-3398-4a2a-a81d-e04d557747d3\">\n",
              "  <button class=\"colab-df-quickchart\" onclick=\"quickchart('df-6b263e70-3398-4a2a-a81d-e04d557747d3')\"\n",
              "            title=\"Suggest charts\"\n",
              "            style=\"display:none;\">\n",
              "\n",
              "<svg xmlns=\"http://www.w3.org/2000/svg\" height=\"24px\"viewBox=\"0 0 24 24\"\n",
              "     width=\"24px\">\n",
              "    <g>\n",
              "        <path d=\"M19 3H5c-1.1 0-2 .9-2 2v14c0 1.1.9 2 2 2h14c1.1 0 2-.9 2-2V5c0-1.1-.9-2-2-2zM9 17H7v-7h2v7zm4 0h-2V7h2v10zm4 0h-2v-4h2v4z\"/>\n",
              "    </g>\n",
              "</svg>\n",
              "  </button>\n",
              "\n",
              "<style>\n",
              "  .colab-df-quickchart {\n",
              "      --bg-color: #E8F0FE;\n",
              "      --fill-color: #1967D2;\n",
              "      --hover-bg-color: #E2EBFA;\n",
              "      --hover-fill-color: #174EA6;\n",
              "      --disabled-fill-color: #AAA;\n",
              "      --disabled-bg-color: #DDD;\n",
              "  }\n",
              "\n",
              "  [theme=dark] .colab-df-quickchart {\n",
              "      --bg-color: #3B4455;\n",
              "      --fill-color: #D2E3FC;\n",
              "      --hover-bg-color: #434B5C;\n",
              "      --hover-fill-color: #FFFFFF;\n",
              "      --disabled-bg-color: #3B4455;\n",
              "      --disabled-fill-color: #666;\n",
              "  }\n",
              "\n",
              "  .colab-df-quickchart {\n",
              "    background-color: var(--bg-color);\n",
              "    border: none;\n",
              "    border-radius: 50%;\n",
              "    cursor: pointer;\n",
              "    display: none;\n",
              "    fill: var(--fill-color);\n",
              "    height: 32px;\n",
              "    padding: 0;\n",
              "    width: 32px;\n",
              "  }\n",
              "\n",
              "  .colab-df-quickchart:hover {\n",
              "    background-color: var(--hover-bg-color);\n",
              "    box-shadow: 0 1px 2px rgba(60, 64, 67, 0.3), 0 1px 3px 1px rgba(60, 64, 67, 0.15);\n",
              "    fill: var(--button-hover-fill-color);\n",
              "  }\n",
              "\n",
              "  .colab-df-quickchart-complete:disabled,\n",
              "  .colab-df-quickchart-complete:disabled:hover {\n",
              "    background-color: var(--disabled-bg-color);\n",
              "    fill: var(--disabled-fill-color);\n",
              "    box-shadow: none;\n",
              "  }\n",
              "\n",
              "  .colab-df-spinner {\n",
              "    border: 2px solid var(--fill-color);\n",
              "    border-color: transparent;\n",
              "    border-bottom-color: var(--fill-color);\n",
              "    animation:\n",
              "      spin 1s steps(1) infinite;\n",
              "  }\n",
              "\n",
              "  @keyframes spin {\n",
              "    0% {\n",
              "      border-color: transparent;\n",
              "      border-bottom-color: var(--fill-color);\n",
              "      border-left-color: var(--fill-color);\n",
              "    }\n",
              "    20% {\n",
              "      border-color: transparent;\n",
              "      border-left-color: var(--fill-color);\n",
              "      border-top-color: var(--fill-color);\n",
              "    }\n",
              "    30% {\n",
              "      border-color: transparent;\n",
              "      border-left-color: var(--fill-color);\n",
              "      border-top-color: var(--fill-color);\n",
              "      border-right-color: var(--fill-color);\n",
              "    }\n",
              "    40% {\n",
              "      border-color: transparent;\n",
              "      border-right-color: var(--fill-color);\n",
              "      border-top-color: var(--fill-color);\n",
              "    }\n",
              "    60% {\n",
              "      border-color: transparent;\n",
              "      border-right-color: var(--fill-color);\n",
              "    }\n",
              "    80% {\n",
              "      border-color: transparent;\n",
              "      border-right-color: var(--fill-color);\n",
              "      border-bottom-color: var(--fill-color);\n",
              "    }\n",
              "    90% {\n",
              "      border-color: transparent;\n",
              "      border-bottom-color: var(--fill-color);\n",
              "    }\n",
              "  }\n",
              "</style>\n",
              "\n",
              "  <script>\n",
              "    async function quickchart(key) {\n",
              "      const quickchartButtonEl =\n",
              "        document.querySelector('#' + key + ' button');\n",
              "      quickchartButtonEl.disabled = true;  // To prevent multiple clicks.\n",
              "      quickchartButtonEl.classList.add('colab-df-spinner');\n",
              "      try {\n",
              "        const charts = await google.colab.kernel.invokeFunction(\n",
              "            'suggestCharts', [key], {});\n",
              "      } catch (error) {\n",
              "        console.error('Error during call to suggestCharts:', error);\n",
              "      }\n",
              "      quickchartButtonEl.classList.remove('colab-df-spinner');\n",
              "      quickchartButtonEl.classList.add('colab-df-quickchart-complete');\n",
              "    }\n",
              "    (() => {\n",
              "      let quickchartButtonEl =\n",
              "        document.querySelector('#df-6b263e70-3398-4a2a-a81d-e04d557747d3 button');\n",
              "      quickchartButtonEl.style.display =\n",
              "        google.colab.kernel.accessAllowed ? 'block' : 'none';\n",
              "    })();\n",
              "  </script>\n",
              "</div>\n",
              "\n",
              "    </div>\n",
              "  </div>\n"
            ],
            "application/vnd.google.colaboratory.intrinsic+json": {
              "type": "dataframe",
              "variable_name": "y",
              "summary": "{\n  \"name\": \"y\",\n  \"rows\": 398,\n  \"fields\": [\n    {\n      \"column\": \"mpg\",\n      \"properties\": {\n        \"dtype\": \"number\",\n        \"std\": 7.815984312565782,\n        \"min\": 9.0,\n        \"max\": 46.6,\n        \"num_unique_values\": 129,\n        \"samples\": [\n          17.7,\n          30.5,\n          30.0\n        ],\n        \"semantic_type\": \"\",\n        \"description\": \"\"\n      }\n    }\n  ]\n}"
            }
          },
          "metadata": {},
          "execution_count": 5
        }
      ],
      "source": [
        "y.head()"
      ]
    },
    {
      "cell_type": "markdown",
      "id": "d3200c25-5a69-4971-9e21-604f063e73de",
      "metadata": {
        "id": "d3200c25-5a69-4971-9e21-604f063e73de"
      },
      "source": [
        "En este punto, puedes hacer cualquier otro análisis exploratorio que creas conveniente."
      ]
    },
    {
      "cell_type": "markdown",
      "id": "f1937b9f",
      "metadata": {
        "id": "f1937b9f"
      },
      "source": [
        "A continuación, crea una función a la que le pases los dataframes de features y de target y el nombre de la variable y haga la gráfica del target (consumo en millas por galón) vs la variable que le ha llegado por parámetro. Puedes ver un ejemplo de gráfica más abajo, pero usa los parámetros que quieras en cuanto a color de los puntos, grids etc."
      ]
    },
    {
      "cell_type": "code",
      "execution_count": 6,
      "id": "13197dad",
      "metadata": {
        "colab": {
          "base_uri": "https://localhost:8080/",
          "height": 448
        },
        "id": "13197dad",
        "outputId": "91d17221-143e-49a0-ba7d-bfdf83a74125"
      },
      "outputs": [
        {
          "output_type": "display_data",
          "data": {
            "text/plain": [
              "<Figure size 640x480 with 1 Axes>"
            ],
            "image/png": "[encoded data removed]"
          },
          "metadata": {}
        }
      ],
      "source": [
        "import matplotlib.pyplot as plt\n",
        "\n",
        "def visualiza(df, y, nombre_columna):\n",
        "    # TODO dibuja la gráfica\n",
        "    plt.figure()\n",
        "    plt.scatter(df[nombre_columna], y, color = \"purple\")\n",
        "    plt.xlabel(nombre_columna, fontsize=9)\n",
        "    plt.ylabel(\"Consumo millas por galón\", fontsize=9)\n",
        "    plt.grid() # para poner las cuadriculas en la grafica\n",
        "\n",
        "visualiza(X, y, 'horsepower') # X es la tabla con todos los features, y es el target y \"housepower\" la columna de X que seleccionamos (feature)"
      ]
    },
    {
      "cell_type": "code",
      "execution_count": null,
      "id": "59db67f0",
      "metadata": {
        "colab": {
          "base_uri": "https://localhost:8080/",
          "height": 448
        },
        "id": "59db67f0",
        "outputId": "c45aa211-51d9-4762-b5a5-ff5e5d629a48"
      },
      "outputs": [
        {
          "output_type": "display_data",
          "data": {
            "text/plain": [
              "<Figure size 640x480 with 1 Axes>"
            ],
            "image/png": "[encoded data removed]"
          },
          "metadata": {}
        }
      ],
      "source": [
        "visualiza(X, y, 'acceleration')"
      ]
    },
    {
      "cell_type": "code",
      "execution_count": null,
      "id": "b61b921b",
      "metadata": {
        "id": "b61b921b",
        "outputId": "1e04fbcd-6189-4eef-a4b7-abc9bdd45b09",
        "colab": {
          "base_uri": "https://localhost:8080/",
          "height": 448
        }
      },
      "outputs": [
        {
          "output_type": "display_data",
          "data": {
            "text/plain": [
              "<Figure size 640x480 with 1 Axes>"
            ],
            "image/png": "[encoded data removed]"
          },
          "metadata": {}
        }
      ],
      "source": [
        "visualiza(X, y, 'weight')"
      ]
    },
    {
      "cell_type": "markdown",
      "id": "5d52295e-3ae0-41e4-acce-0fad24a4cadb",
      "metadata": {
        "id": "5d52295e-3ae0-41e4-acce-0fad24a4cadb"
      },
      "source": [
        "IMPORTANTE: Aunque lo ideal sería un modelo multivariante, vamos a elegir la variable `weight` y hacer una regresión lineal solo con esta variable."
      ]
    },
    {
      "cell_type": "markdown",
      "id": "58c9aff9",
      "metadata": {
        "id": "58c9aff9"
      },
      "source": [
        "### 1.2 Implementación del modelo\n",
        "\n",
        "En este punto vamos a dar un paso atrás y olvidarnos de los datos de consumo por un momento, porque el algoritmo que vamos a implementar serviría para cualquier conjunto de datos.\n",
        "\n",
        "Lo primero, implementa una función que devuelva los valores de $\\widehat{w}$ dados X e y. Si se da el caso de que el dataset tiene más features que observaciones, queremos transponerlo antes de realizar las operaciones. Lo hacemos porque, como vimos en clase, los resultados no van a ser buenos si el número de observaciones es menor."
      ]
    },
    {
      "cell_type": "code",
      "source": [
        "# Queremos escribir un algoritmo que funcione para cualquier conjunto de datos, no solo para los datos de consumo.\n",
        "# Este algoritmo nos ayudará a calcular algo llamado ŵ (los \"pesos\" o \"coeficientes\"), que son números que un modelo usa para hacer predicciones.\n",
        "# X: Es una tabla (o matriz) que contiene los datos de entrada, es decir, los features (las características que usaremos para predecir algo). Por ejemplo: El peso del coche.\n",
        "# y: Es una lista o columna con los valores que queremos predecir, el target (el resultado). Por ejemplo: El consumo de gasolina en millas por galón.\n",
        "# ŵ son los números que el modelo calcula para relacionar las columnas de X con y.\n",
        "# Es como decir: \"Si multiplicas estas características por estos números (ŵ), obtendrás algo cercano al resultado que esperas (y).\"\n",
        "# Por ejemplo: Si tienes un modelo simple que dice: Consumo = (peso × w1) + (caballos × w2). Entonces, w1 y w2 son parte de ŵ. Nuestro trabajo es encontrar esos números.\n",
        "# A veces, tienes más columnas (features) en X que filas (observaciones). Ejemplo: Tienes 10 columnas (peso, caballos, etc.), pero solo 5 coches con datos.\n",
        "# Esto puede ser un problema porque las fórmulas matemáticas que usamos para calcular ŵ no funcionan bien si hay más columnas que filas. Los resultados serían incorrectos.\n",
        "# Si hay más columnas (features) que filas (observaciones), transponemos X : lo que eran columnas se vuelven filas, y lo que eran filas se vuelven columnas.\n"
      ],
      "metadata": {
        "id": "u__e2zvXAIUV"
      },
      "id": "u__e2zvXAIUV",
      "execution_count": null,
      "outputs": []
    },
    {
      "cell_type": "code",
      "execution_count": 7,
      "id": "741a496b",
      "metadata": {
        "id": "741a496b"
      },
      "outputs": [],
      "source": [
        "import numpy as np\n",
        "\n",
        "def pesos_ols(X, y):\n",
        "    # Implementa la fórmula matricial\n",
        "\n",
        "    # TODO 1 Comprueba que las dimensiones son adecuadas y corrige si no es así\n",
        "  X.shape\n",
        "  y.shape # resultado (2, 10) (10,)\n",
        "  if X.shape[1] > X.shape[0]:\n",
        "    X = X.T\n",
        "\n",
        "    # TODO 2 Prepara la matriz X para que tenga la forma adecuada para aplicar la fórmula\n",
        "  ones = np.ones((X.shape[0], 1)) # creo columna de unos\n",
        "  X_c1 = np.hstack((ones, X)) # concatenar los unos a la matriz X. Resultado: matriz con unos\n",
        "\n",
        "    # TODO 3 Calcula los pesos\n",
        "  X_t = X_c1.T  # Transpuesta de X_c\n",
        "  inv = np.linalg.inv(np.dot(X_t, X_c1)) # (X^T X)^(-1)\n",
        "  w = inv @ X_t @ y # (X^T X)^(-1) X^T y\n",
        "  return w\n",
        "\n",
        "# Cuando hago este tipo de ejercicios realmente la X (normal) ya es la X traspuesta porque sino el ejercicio no saldría bien.\n",
        "# Lo que hago al hacer la traspuesta de nuevo es volver al original"
      ]
    },
    {
      "cell_type": "code",
      "execution_count": 8,
      "id": "20ebe4da",
      "metadata": {
        "id": "20ebe4da",
        "colab": {
          "base_uri": "https://localhost:8080/"
        },
        "outputId": "0c3d6e6d-ce2f-4c85-8e19-925b7e91bcb0"
      },
      "outputs": [
        {
          "output_type": "execute_result",
          "data": {
            "text/plain": [
              "array([-2.29223802e+06,  5.92536529e+01,  1.20780450e+03])"
            ]
          },
          "metadata": {},
          "execution_count": 8
        }
      ],
      "source": [
        "# Array de prueba!!\n",
        "a = np.array([[1710, 1262, 1786, 1717, 2198, 1362, 1694, 2090, 1774, 1077],\n",
        "              [2003, 1976, 2001, 1915, 2000, 1993, 2004, 1973, 1931, 1939]])\n",
        "b = np.array([208500, 181500, 223500, 140000, 250000, 143000, 307000, 200000, 129900, 118000])\n",
        "pesos_ols(a, b)\n"
      ]
    },
    {
      "cell_type": "markdown",
      "id": "ae19e4b9-8ea8-4678-86f9-b05a460fc57c",
      "metadata": {
        "id": "ae19e4b9-8ea8-4678-86f9-b05a460fc57c"
      },
      "source": [
        "Hemos implementado el algoritmo de mínimos cuadrados y lo hemos probado en un array de tamaño 2x10. Como pista, el resultado que he obtenido para este array de prueba es el siguiente:\n",
        "\n",
        "array([-2.29223802e+06,  5.92536529e+01,  1.20780450e+03])"
      ]
    },
    {
      "cell_type": "markdown",
      "id": "5cb5c0f5",
      "metadata": {
        "id": "5cb5c0f5"
      },
      "source": [
        "### 1.3 Prueba del modelo en los datos de consumo de coches\n",
        "\n",
        "Ya podemos usar nuestra función `pesos` en el dataset real que hemos descargado, el de consumo de combustible. Para ver el ajuste, dibuja de nuevo los datos junto con la recta que has obtenido, en la misma gráfica. Tendrás que convertir los dataframes de Pandas en arrays de numpy para poder aplicar las operaciones matriciales.\n",
        "\n",
        "TIP: Revisa las dimensiones de todos los arrays para ver que son correctas."
      ]
    },
    {
      "cell_type": "code",
      "source": [
        "# TODO Aplica el modelo y dibuja la recta junto con los datos\n",
        "x_weight = X[['weight']]\n",
        "y = np.array(y)\n",
        "matriz_weight = np.array(X['weight']).reshape(-1, 1)\n",
        "w = pesos_ols(x_weight, y)\n",
        "\n",
        "# recta de ajuste y = w0 + w1 * X\n",
        "y_pred = w[0] + w[1] * matriz_weight\n",
        "\n",
        "# Dibujamos la gráfia con los datos\n",
        "plt.scatter(X['weight'], y, color='pink', label='Datos')\n",
        "plt.plot(X['weight'], y_pred, color='blue', label='Recta de ajuste')\n",
        "plt.xlabel('Peso del vehículo')\n",
        "plt.ylabel('Consumo de combustible')\n",
        "plt.title('Relación entre el peso y el consumo de combustible')\n",
        "plt.show()"
      ],
      "metadata": {
        "colab": {
          "base_uri": "https://localhost:8080/",
          "height": 472
        },
        "id": "6s_1QIYmyRem",
        "outputId": "a2b1590a-ab25-4c4e-a4be-fa05fe8852a3"
      },
      "id": "6s_1QIYmyRem",
      "execution_count": 29,
      "outputs": [
        {
          "output_type": "display_data",
          "data": {
            "text/plain": [
              "<Figure size 640x480 with 1 Axes>"
            ],
            "image/png": "[encoded data removed]"
          },
          "metadata": {}
        }
      ]
    },
    {
      "cell_type": "markdown",
      "id": "88fcbf61",
      "metadata": {
        "id": "88fcbf61"
      },
      "source": [
        "Por último, vamos a comprar el resultado con el que nos da `scikit-learn`para ver si nuestra implementación tiene buena pinta. Podemos ver cómo funciona en la [documentación](https://scikit-learn.org/stable/modules/generated/sklearn.linear_model.LinearRegression.html)."
      ]
    },
    {
      "cell_type": "code",
      "execution_count": 22,
      "id": "3d07cb49",
      "metadata": {
        "colab": {
          "base_uri": "https://localhost:8080/"
        },
        "id": "3d07cb49",
        "outputId": "2fb13932-e48d-42e2-bd91-741cfd32f0e3"
      },
      "outputs": [
        {
          "output_type": "stream",
          "name": "stdout",
          "text": [
            "Punto de corte: [46.31736442]\n",
            "Pendiente: [[-0.00767661]]\n"
          ]
        }
      ],
      "source": [
        "from sklearn.linear_model import LinearRegression\n",
        "\n",
        "# Creamos el objeto\n",
        "lr = LinearRegression()\n",
        "\n",
        "# Le pasamos los datos en el formato correcto\n",
        "X = auto_mpg.data.features\n",
        "y = auto_mpg.data.targets\n",
        "\n",
        "X_lr = X[['weight']]\n",
        "y_lr = y\n",
        "\n",
        "# Entrenamos con los datos\n",
        "lr.fit(X_lr,y_lr)\n",
        "print(\"Punto de corte:\", lr.intercept_)\n",
        "print(\"Pendiente:\", lr.coef_)"
      ]
    },
    {
      "cell_type": "code",
      "source": [
        "w = pesos_ols(X_weight, y)\n",
        "print(\"Punto de corte (intersección):\", w[0])  # w[0] es el punto de corte\n",
        "print(\"Pendiente:\", w[1])  # w[1] es la pendiente"
      ],
      "metadata": {
        "colab": {
          "base_uri": "https://localhost:8080/"
        },
        "id": "q80Q5vLJTVMf",
        "outputId": "9216428c-9323-479d-a86d-42527efc5077"
      },
      "id": "q80Q5vLJTVMf",
      "execution_count": 31,
      "outputs": [
        {
          "output_type": "stream",
          "name": "stdout",
          "text": [
            "Punto de corte (intersección): [46.31736442]\n",
            "Pendiente: [-0.00767661]\n"
          ]
        }
      ]
    },
    {
      "cell_type": "markdown",
      "id": "a2571861",
      "metadata": {
        "id": "a2571861"
      },
      "source": [
        "**TODO**: Analiza el resultado obtenido y compáralo con el de sklearn"
      ]
    },
    {
      "cell_type": "markdown",
      "source": [
        "Si comparamos ambos procedimientos podemos ver una serie de claras diferencias, en mi implementación uso la fórmula y = w0 + w1 * X para ver cómo la variable dependiente (consumo de combustible) cambia en función de la variable independiente (peso) mientras que en sklearn utiliza directamente la librería para hacerlo. En cuanto a los resultados podemos observar que los números son exactamente iguales sin embargo hay una diferencia a la hora de expresarlos, en sklearn la pendiente se representa con dos corchetes."
      ],
      "metadata": {
        "id": "HD-o3G10RwcH"
      },
      "id": "HD-o3G10RwcH"
    },
    {
      "cell_type": "markdown",
      "id": "4aa24d2c",
      "metadata": {
        "id": "4aa24d2c"
      },
      "source": [
        "### 1.4 Compara el método de mínimos cuadrados y el descenso del gradiente para obtener los coeficientes de una regresión lineal\n",
        "\n"
      ]
    },
    {
      "cell_type": "markdown",
      "id": "3e9b06f2",
      "metadata": {
        "id": "3e9b06f2"
      },
      "source": [
        "\n",
        "\n",
        "Por un lado el método de mínimos cuadrados facilita directamente los coeficientes de la regresión lineal mientras que el descenso gradiente encuentra esos coeficientes de manera progesiva realizando un proceso iterativo, explicado de manera menos técnica: intentamos llegar al punto más bajo de un valle, vamos caminando sintiendo la inclinación, si los pasos son grandes podrías pasarte el punto más bajo pero si esos pasos son pequeños tardarás más.\n",
        "\n",
        "Si comparamos las ventajas y desventajas de cada uno podríamos decir que el primer método es más directo pero poco útil a la hora de trabajar con una gran cantidad de datos a diferencia del descenso del gradiente que es más flexible práctico con numerosos datos. Sin embargo, el descenso del gradiente también tiene algunos puntos negativos: puede ser lento según el número que elijas a la hora de ajustar los coeficientes, además si la elección de este número es incorrecta puede dar error\n",
        "\n"
      ]
    },
    {
      "cell_type": "markdown",
      "id": "77098377",
      "metadata": {
        "id": "77098377"
      },
      "source": [
        "## 2. Optimización con descenso del gradiente [OPCIONAL]\n",
        "\n",
        "Este ejercicio es opcional, no es necesario hacerlo para conseguir el APTO en la práctica, pero podéis hacerlo si queréis practicar más sobre el método del descenso del gradiente, que es muy importante en machine learning.\n",
        "\n",
        "Vamos a resolver el mismo problema usando el descenso del gradiente en lugar de la solución analítica. El descenso del gradiente es un método de optimización iterativo que usa el operador gradiente.\n",
        "\n",
        "Como es iterativo, necesitamos decirle cuándo tiene que parar y darnos la solución. En este caso, le vamos a decir que pare y nos devuelva la solución después de un número de iteraciones que le pasaremos como parámetro. La ecuación iterativa es.\n",
        "\n",
        "$$w^{t+1} = w^t - \\eta \\cdot \\nabla f(w)$$\n",
        "\n",
        "donde f es nuestra función objetivo, y w es un vector. Para la función objetivo, vamos a usar el error RSS, que querremos minimizar.\n",
        "\n",
        "$$ RSS(w) = \\frac{1}{2}\\sum_{n=1}^{N}[y_n-f(x_n)]^2$$\n",
        "\n",
        "y cuyo gradiente es:\n",
        "\n",
        "$$\\nabla RSS(w) = X^T(Xw^t-y)$$\n",
        "\n",
        "TIP: Ten en cuenta que el RSS también lo puedes escribir como $\\frac{1}{2}\\sum_{n=1}^{N}[y_n-\\hat{y_n}]^2$ donde $\\hat{y_n} = X \\hat{w}$ en cada paso."
      ]
    },
    {
      "cell_type": "markdown",
      "id": "446ad8dd",
      "metadata": {
        "id": "446ad8dd"
      },
      "source": [
        "### 2.1 Implementar el descenso del gradiente\n",
        "\n",
        "Completa las siguientes funciones para implementar el descenso del gradiente con la función objetivo de la regresión lineal. La función necesitará:\n",
        "\n",
        "- La entrada X y salida y de la regresión\n",
        "- Un punto inicial desde el que empezar a iterar\n",
        "- El número de iteraciones\n",
        "- El learning rate\n",
        "\n",
        "La función nos devolverá un array con las w resultantes de las iteraciones y otro con el valor de la función en cada paso del algoritmo, a la que también se conoce como *loss function*."
      ]
    },
    {
      "cell_type": "code",
      "execution_count": null,
      "id": "a73d5785",
      "metadata": {
        "id": "a73d5785"
      },
      "outputs": [],
      "source": [
        "import numpy as np\n",
        "\n",
        "def gradient_descent(X, y, w0, n_iter, eta):\n",
        "    # Define la función que calcule n_iter iteraciones del descenso del gradiente\n",
        "    # Inicializamos variables\n",
        "    # Si eliges otra forma de resolverlo, puedes borrar esta parte\n",
        "    loss_iter = [np.inf]\n",
        "    w_iter = [w0]\n",
        "    w = w0\n",
        "\n",
        "    # TODO 1 Añade la columna de 1s\n",
        "\n",
        "\n",
        "    # TODO 2 Haz un bucle para las iteraciones\n",
        "    # TODO 3 Dentro del bucle tendrás que actualizar el error y los pesos y añadirlos a las listas\n",
        "\n",
        "\n",
        "    # Devuelve los resultados\n",
        "    return np.array(w_iter), np.array(loss_iter)\n",
        "\n",
        "\n",
        "eta = 0.01\n",
        "iteraciones = 2000\n",
        "\n",
        "np.random.seed(123)\n",
        "w0 = np.random.rand(2).reshape((2,1))\n",
        "\n",
        "y = np.array([208500, 181500, 223500, 140000, 250000]).reshape((5,1))\n",
        "X = np.array( [[  0.37020659],\n",
        "               [  -0.48234664],\n",
        "               [  0.51483616],\n",
        "               [  0.38352774],\n",
        "               [  1.29888065]])\n",
        "\n",
        "weights, loss = gradient_descent(X, y, w0, iteraciones, eta)\n",
        "\n",
        "print(weights[-1])"
      ]
    },
    {
      "cell_type": "markdown",
      "id": "6d6e3013",
      "metadata": {
        "id": "6d6e3013"
      },
      "source": [
        "### 2.2 Aplicar al dataset de consumo de combustible\n",
        "\n",
        "Leemos de nuevo los datos y aplicamos la función que acabamos de programar."
      ]
    },
    {
      "cell_type": "code",
      "execution_count": null,
      "id": "5b684062",
      "metadata": {
        "id": "5b684062",
        "outputId": "20fa12c0-01c2-4b31-df9b-dcb765085501"
      },
      "outputs": [
        {
          "name": "stdout",
          "output_type": "stream",
          "text": [
            "(398, 1)\n",
            "(398, 1)\n"
          ]
        }
      ],
      "source": [
        "from ucimlrepo import fetch_ucirepo\n",
        "\n",
        "# fetch dataset\n",
        "auto_mpg = fetch_ucirepo(id=9)\n",
        "\n",
        "# data (as pandas dataframes)\n",
        "X = auto_mpg.data.features\n",
        "y = auto_mpg.data.targets\n",
        "\n",
        "# convert to numpy\n",
        "X_np = X['weight'].to_numpy().reshape((X.shape[0], 1))\n",
        "y_np = y.to_numpy()\n",
        "\n",
        "print(X_np.shape)\n",
        "print(y_np.shape)"
      ]
    },
    {
      "cell_type": "markdown",
      "id": "94d27c55",
      "metadata": {
        "id": "94d27c55"
      },
      "source": [
        "Para ayudar al algoritmo, vamos a escalar la variable X, restando la media y dividiendo entre la desviación estándar. Después aplicamos la función anterior y dibujamos."
      ]
    },
    {
      "cell_type": "code",
      "execution_count": null,
      "id": "b5438c2a",
      "metadata": {
        "id": "b5438c2a"
      },
      "outputs": [],
      "source": [
        "# TODO Aplica el modelo y dibuja la recta junto con los datos\n",
        "\n",
        "X = auto_mpg.data.features\n",
        "y = auto_mpg.data.targets\n",
        "\n",
        "# Escalamos la variable x\n",
        "\n",
        "X_np = X['weight'].to_numpy().reshape((X.shape[0], 1))\n",
        "y_np = y.to_numpy()\n",
        "\n",
        "X_gd=(X_np - X_np.mean()) / X_np.std()\n",
        "y_gd = y_np\n",
        "\n",
        "# TODO 1 Punto inicial y learning rate\n",
        "\n",
        "\n",
        "# TODO 2 Aplicamos el algoritmo\n",
        "\n",
        "\n",
        "# Límites de los ejes\n",
        "x_max = np.max(X_gd) + 1\n",
        "x_min = np.min(X_gd) -1\n",
        "\n",
        "\n",
        "# TODO 3 Dibuja la gráfica\n"
      ]
    }
  ],
  "metadata": {
    "kernelspec": {
      "display_name": "venv",
      "language": "python",
      "name": "venv"
    },
    "language_info": {
      "codemirror_mode": {
        "name": "ipython",
        "version": 3
      },
      "file_extension": ".py",
      "mimetype": "text/x-python",
      "name": "python",
      "nbconvert_exporter": "python",
      "pygments_lexer": "ipython3",
      "version": "3.12.3"
    },
    "colab": {
      "provenance": []
    }
  },
  "nbformat": 4,
  "nbformat_minor": 5
}